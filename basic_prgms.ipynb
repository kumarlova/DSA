{
 "cells": [
  {
   "cell_type": "markdown",
   "metadata": {},
   "source": [
    "### ref for geeks for geeks :: https://www.geeksforgeeks.org/python-programming-examples/"
   ]
  },
  {
   "cell_type": "markdown",
   "metadata": {},
   "source": [
    "## solve the problem by this steps"
   ]
  },
  {
   "cell_type": "markdown",
   "metadata": {},
   "source": [
    "1)state the problem clearly . Identify the  input and output formats.\n",
    "\n",
    "2)come up with some exmaple input and outputs .Try to cover all edge cases\n",
    "\n",
    "3)come up with correct solution and explain in plane english\n",
    "\n",
    "4)Implement the solution and test will all cases and fix bugs if any \n",
    "\n",
    "5)Analyse the algorithm complexity and idetify inefficiencies ,if any\n",
    "\n",
    "6)apply  right technique to over come the inefficiencies .Repeat step -3 and step-6"
   ]
  },
  {
   "cell_type": "code",
   "execution_count": 1,
   "metadata": {},
   "outputs": [],
   "source": [
    "############################## problem-1 ################\n",
    "### 1)find the largest of three numbers from given input\n",
    "def largest_number(*args,output):\n",
    "    pass\n",
    "\n",
    "##2)some inputs and outputs  ## edge cases\n",
    "## case-1\n",
    "a=12\n",
    "b=33\n",
    "c=99\n",
    "output=99\n",
    "##case-2\n",
    "\n",
    "\n"
   ]
  },
  {
   "cell_type": "code",
   "execution_count": 8,
   "metadata": {},
   "outputs": [
    {
     "data": {
      "text/plain": [
       "'45 is a large number'"
      ]
     },
     "execution_count": 8,
     "metadata": {},
     "output_type": "execute_result"
    }
   ],
   "source": [
    "## largest of three numbers (generelaised case)\n",
    "\n",
    "\n",
    "a=3\n",
    "b=45\n",
    "c=4\n",
    "\n",
    "def large_num():\n",
    "    \n",
    "    if a>b and a>c:\n",
    "        print(f\"{a}  is a large number\")\n",
    "    elif b>a and b>c:\n",
    "        return f\"{b} is a large number\"\n",
    "        \n",
    "    else:\n",
    "        print(f\"{c} is a large number\")\n",
    "\n",
    "large_num()\n",
    "\n",
    "#way -2\n",
    "#print(max(a,b,c))"
   ]
  },
  {
   "cell_type": "code",
   "execution_count": null,
   "metadata": {},
   "outputs": [],
   "source": []
  },
  {
   "cell_type": "code",
   "execution_count": 2,
   "metadata": {},
   "outputs": [
    {
     "name": "stdout",
     "output_type": "stream",
     "text": [
      "[{'input': {'query': 5}, 'output': 120}, {'input': {'query': 0}, 'output': 1}, {'input': {'query': 1}, 'output': 1}, {'input': {'query': -3}, 'output': 'No factorial'}]\n"
     ]
    },
    {
     "data": {
      "text/plain": [
       "'\\n1)take the number  into the range and multiply the with the numbers below the given numbers\\n2)if given number is positive numeber and return the factorial of number \\n3)if given number is 0  return 1\\n4)if given number is negative number return \"NO fatorial \"\\n        \\n'"
      ]
     },
     "execution_count": 2,
     "metadata": {},
     "output_type": "execute_result"
    }
   ],
   "source": [
    "#######################problem----2########################\n",
    "##1)find the factorial of given number\n",
    "def factorial(a):\n",
    "    pass\n",
    "##2)some input output cases with all edge cases\n",
    "#case-1\n",
    "tests=[]\n",
    "\n",
    "\n",
    "tests.append({\n",
    "    'input': {\n",
    "        'query': 5\n",
    "    },\n",
    "    'output': 120\n",
    "})\n",
    "\n",
    "\n",
    "#case-2\n",
    "tests.append({\n",
    "    'input': {\n",
    "        'query': 0\n",
    "    },\n",
    "    'output': 1\n",
    "})\n",
    "\n",
    "\n",
    "## case--3\n",
    "tests.append({\"input\":{\n",
    "    \"query\":1},\n",
    "    \"output\":1})\n",
    "\n",
    "\n",
    "##case--4\n",
    "tests.append({\n",
    "    \"input\":{\n",
    "        \"query\":-3,\n",
    "        },\n",
    "    \"output\":\"No factorial\"\n",
    "})\n",
    "\n",
    "print(tests)\n",
    "\n",
    "### 3)solution and solution explanation in english\n",
    "\"\"\"\n",
    "1)take the number  into the range and multiply the with the numbers below the given numbers\n",
    "2)if given number is positive numeber and return the factorial of number \n",
    "3)if given number is 0  return 1\n",
    "4)if given number is negative number return \"NO fatorial \"\n",
    "        \n",
    "\"\"\"\n"
   ]
  },
  {
   "cell_type": "code",
   "execution_count": 17,
   "metadata": {},
   "outputs": [],
   "source": [
    "test={\n",
    "    'input': {\n",
    "        'query': 5\n",
    "    },\n",
    "    'output': 120\n",
    "}\n"
   ]
  },
  {
   "cell_type": "code",
   "execution_count": 22,
   "metadata": {},
   "outputs": [
    {
     "data": {
      "text/plain": [
       "5"
      ]
     },
     "execution_count": 22,
     "metadata": {},
     "output_type": "execute_result"
    }
   ],
   "source": [
    "test['input']['query']"
   ]
  },
  {
   "cell_type": "code",
   "execution_count": 13,
   "metadata": {},
   "outputs": [
    {
     "name": "stdout",
     "output_type": "stream",
     "text": [
      "Collecting termcolor\n",
      "  Downloading termcolor-2.4.0-py3-none-any.whl (7.7 kB)\n",
      "Installing collected packages: termcolor\n",
      "Successfully installed termcolor-2.4.0\n"
     ]
    }
   ],
   "source": [
    "!pip install termcolor\n"
   ]
  },
  {
   "cell_type": "code",
   "execution_count": 14,
   "metadata": {},
   "outputs": [],
   "source": [
    "from termcolor import colored"
   ]
  },
  {
   "cell_type": "code",
   "execution_count": 20,
   "metadata": {},
   "outputs": [],
   "source": [
    "## 4)implements solution\n",
    "def factorial(a):\n",
    "    if a<0:\n",
    "        return \"NO factorial\"\n",
    "\n",
    "    elif a==0 and a==1 :\n",
    "        return 1\n",
    "    else:\n",
    "        factorial=1\n",
    "        for i in range(1,a+1):\n",
    "            factorial=factorial*i\n",
    "        return factorial"
   ]
  },
  {
   "cell_type": "code",
   "execution_count": 21,
   "metadata": {},
   "outputs": [
    {
     "name": "stdout",
     "output_type": "stream",
     "text": [
      "test case 1\n",
      "120\n",
      "\u001b[32mPASSED\u001b[0m\n",
      "\n",
      "test case 2\n",
      "1\n",
      "\u001b[32mPASSED\u001b[0m\n",
      "\n",
      "test case 3\n",
      "1\n",
      "\u001b[32mPASSED\u001b[0m\n",
      "\n",
      "test case 4\n",
      "NO factorial\n",
      "\u001b[31mNOT PASSED\u001b[0m\n",
      "\n",
      "\u001b[31msome test cases not passed\u001b[0m\n"
     ]
    }
   ],
   "source": [
    "\n",
    "##if __name__==\"__main__\":\n",
    "i=0\n",
    "all_tests_passed=True\n",
    "for test in tests:\n",
    "    i=i+1\n",
    "    print(f\"test case {i}\")\n",
    "    results=factorial(test['input']['query']) \n",
    "    print(results) \n",
    "    #print(test['output']==results)\n",
    "    \n",
    "    if test['output'] == results:\n",
    "        print(colored('PASSED', 'green'))\n",
    "    else:\n",
    "        print(colored('NOT PASSED', 'red'))\n",
    "        all_tests_passed=False\n",
    "    print() \n",
    "    \n",
    "    \n",
    "############ check for all test cases are passed or not and find the error also\n",
    "if all_tests_passed:\n",
    "    print(colored(\"ALL TEST CASES PASSED\",'green'))\n",
    "else:\n",
    "    print(ValueError(colored(\"some test cases not passed\" ,'red')))"
   ]
  },
  {
   "cell_type": "code",
   "execution_count": 39,
   "metadata": {},
   "outputs": [],
   "source": [
    "################################# problem-3###################3333\n",
    "#1)write a python program to  check the given number is armstron or not\n",
    "## it means that making the power of existing digits power and adding those numbers if it is equal to given number is armstrong number\n",
    "def armstrong_num_checker(num,output):\n",
    "    pass\n",
    "\n",
    "## 2)some input output with all the edge cases\n",
    "tests=[]\n",
    "tests.append({\n",
    "    \"input\":{\"query\":153},\n",
    "    \"output\":\"Yes 153, is Armstrong number\"\n",
    "})\n",
    "\n",
    "tests.append({\n",
    "    \"input\":{\"query\":120},\n",
    "    \"output\": \"120 is not Armstrong number\"\n",
    "}\n",
    ")\n",
    "\n",
    "##3)solution explanation in plain english\n",
    "#1)take input and find the each number qube  and add all of them \n",
    "##2)make equate comparison with output if it is equal print output as \"yes ,it is\" else \"no\""
   ]
  },
  {
   "cell_type": "code",
   "execution_count": 40,
   "metadata": {},
   "outputs": [
    {
     "data": {
      "text/plain": [
       "[{'input': {'query': 153}, 'output': 'Yes 153, is Armstrong number'},\n",
       " {'input': {'query': 120}, 'output': '120 is not Armstrong number'}]"
      ]
     },
     "execution_count": 40,
     "metadata": {},
     "output_type": "execute_result"
    }
   ],
   "source": [
    "tests"
   ]
  },
  {
   "cell_type": "code",
   "execution_count": 41,
   "metadata": {},
   "outputs": [],
   "source": [
    "## 4)implement the solution\n",
    "def armstrong_num_checker(num):\n",
    "    original_num=num\n",
    "    \n",
    "    power=len(str(num))\n",
    "    sum_of_digit_cubes=0\n",
    "    while num!=0:\n",
    "        digit= num%10\n",
    "        sum_of_digit_cubes+=digit**power\n",
    "        num=num//10\n",
    "    if sum_of_digit_cubes==original_num:\n",
    "        print(f\"Yes {original_num}, is Armstrong number\")\n",
    "    else:\n",
    "        print(f\"{original_num} is not Armstrong number\")\n",
    "\n",
    "              "
   ]
  },
  {
   "cell_type": "code",
   "execution_count": 45,
   "metadata": {},
   "outputs": [
    {
     "name": "stdout",
     "output_type": "stream",
     "text": [
      "123 is not Armstrong number\n"
     ]
    }
   ],
   "source": [
    "armstrong_num_checker(123)"
   ]
  },
  {
   "cell_type": "code",
   "execution_count": 42,
   "metadata": {},
   "outputs": [
    {
     "data": {
      "text/plain": [
       "[{'input': {'query': 153}, 'output': 'Yes 153, is Armstrong number'},\n",
       " {'input': {'query': 120}, 'output': '120 is not Armstrong number'}]"
      ]
     },
     "execution_count": 42,
     "metadata": {},
     "output_type": "execute_result"
    }
   ],
   "source": [
    "tests"
   ]
  },
  {
   "cell_type": "code",
   "execution_count": 50,
   "metadata": {},
   "outputs": [
    {
     "name": "stdout",
     "output_type": "stream",
     "text": [
      "test case 1\n",
      "Yes 153, is Armstrong number\n",
      "None\n",
      "\u001b[31mNOT PASSED\u001b[0m\n",
      "\n",
      "test case 2\n",
      "120 is not Armstrong number\n",
      "None\n",
      "\u001b[31mNOT PASSED\u001b[0m\n",
      "\n"
     ]
    }
   ],
   "source": [
    "##############\n",
    "i=0\n",
    "all_tests_passed=True\n",
    "for test in tests:\n",
    "    i=i+1\n",
    "    print(f\"test case {i}\")\n",
    "    \n",
    "    results=armstrong_num_checker(test[\"input\"]['query'])\n",
    "    print(results)\n",
    "    # print(test['output'])\n",
    "    if test[\"output\"]==results:\n",
    "        print(colored(\"PASSED\",'green'))\n",
    "    else:\n",
    "        print(colored(\"NOT PASSED\" ,\"red\"))\n",
    "    print()\n",
    "        "
   ]
  },
  {
   "cell_type": "code",
   "execution_count": null,
   "metadata": {},
   "outputs": [],
   "source": [
    "{'input': {'cards': [13, 11, 10, 7, 4, 1, 0], 'query': 7}, 'output': 3}"
   ]
  },
  {
   "cell_type": "code",
   "execution_count": null,
   "metadata": {},
   "outputs": [],
   "source": []
  },
  {
   "cell_type": "code",
   "execution_count": 52,
   "metadata": {},
   "outputs": [],
   "source": [
    "####################################### problem -4 ############################################\n",
    "##1) check the given number is prime or not\n",
    "def prime_num_checker(num):\n",
    "    pass\n",
    "\n",
    "##2)input and output responces\n",
    "tests=[]\n",
    "tests.append( {\n",
    "    \"input\":{\"prime\":[2,34,5,9,10,13]},\n",
    "    \"output\":[2,5,13]}\n",
    ")\n",
    "tests.append(\n",
    "    {\"input\":{\"prime\":[-1,1,-3,5,7,89,91]},\n",
    "   \"output\":[5,7,89]\n",
    "        }\n",
    "    \n",
    ")\n",
    "\n",
    "tests.append(\n",
    "    {\n",
    "        \"input\":{\"prime\":[]},\n",
    "        \"output\":-1\n",
    "    }\n",
    ")"
   ]
  },
  {
   "cell_type": "code",
   "execution_count": null,
   "metadata": {},
   "outputs": [],
   "source": [
    "## 3)explain the solution in plane english\n",
    "# check the give number greatee than or equal to 2\n",
    "# take the range below the given number\n",
    "#check the given  num is divede with any one number \n",
    "# return it is not a prime num list"
   ]
  },
  {
   "cell_type": "code",
   "execution_count": 37,
   "metadata": {},
   "outputs": [
    {
     "data": {
      "text/plain": [
       "range(2, 4)"
      ]
     },
     "execution_count": 37,
     "metadata": {},
     "output_type": "execute_result"
    }
   ],
   "source": [
    "num=10\n",
    "range(2,int(num**0.5)+1)"
   ]
  },
  {
   "cell_type": "code",
   "execution_count": 106,
   "metadata": {},
   "outputs": [
    {
     "data": {
      "text/plain": [
       "range(2, 5)"
      ]
     },
     "execution_count": 106,
     "metadata": {},
     "output_type": "execute_result"
    }
   ],
   "source": [
    "num=16\n",
    "range(2,int(num**0.5)+1)"
   ]
  },
  {
   "cell_type": "code",
   "execution_count": 119,
   "metadata": {},
   "outputs": [],
   "source": [
    "# ### 4)implement the program\n",
    "# def prime_num_checker(num):\n",
    "#     if num <=1:\n",
    "#         return False\n",
    "    \n",
    "#     for a in range(2,int(num**0.5)+1):\n",
    "#         if num%a==0:\n",
    "#             return False\n",
    "        \n",
    "#     return True     \n",
    "############################################33\n",
    "def prime_num_checker(num):\n",
    "    if num <= 1:\n",
    "        return False\n",
    "    # if num == 2:\n",
    "    #     return True\n",
    "    for a in range(2, num):\n",
    "        if num % a == 0:\n",
    "            return False\n",
    "    return True\n",
    "   \n"
   ]
  },
  {
   "cell_type": "code",
   "execution_count": 120,
   "metadata": {},
   "outputs": [
    {
     "data": {
      "text/plain": [
       "True"
      ]
     },
     "execution_count": 120,
     "metadata": {},
     "output_type": "execute_result"
    }
   ],
   "source": [
    "prime_num_checker(2)"
   ]
  },
  {
   "cell_type": "code",
   "execution_count": 121,
   "metadata": {},
   "outputs": [
    {
     "name": "stdout",
     "output_type": "stream",
     "text": [
      "[2, 3, 5, 7, 11, 13, 17, 19, 23]\n"
     ]
    }
   ],
   "source": [
    "lis=[]\n",
    "for num in range(25):\n",
    "    a=prime_num_checker(num)\n",
    "    \n",
    "    if a is True:\n",
    "        lis.append(num)\n",
    "print(lis)\n",
    "    "
   ]
  },
  {
   "cell_type": "code",
   "execution_count": null,
   "metadata": {},
   "outputs": [],
   "source": []
  }
 ],
 "metadata": {
  "kernelspec": {
   "display_name": "cuda_env",
   "language": "python",
   "name": "python3"
  },
  "language_info": {
   "codemirror_mode": {
    "name": "ipython",
    "version": 3
   },
   "file_extension": ".py",
   "mimetype": "text/x-python",
   "name": "python",
   "nbconvert_exporter": "python",
   "pygments_lexer": "ipython3",
   "version": "3.10.9"
  }
 },
 "nbformat": 4,
 "nbformat_minor": 2
}
